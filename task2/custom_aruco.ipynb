{
 "cells": [
  {
   "cell_type": "markdown",
   "metadata": {},
   "source": [
    "## Create our own aruco dictionary"
   ]
  },
  {
   "cell_type": "code",
   "execution_count": 1,
   "metadata": {},
   "outputs": [],
   "source": [
    "import numpy as np\n",
    "import cv2"
   ]
  },
  {
   "cell_type": "code",
   "execution_count": 2,
   "metadata": {},
   "outputs": [],
   "source": [
    "# defining an empty custom dictionary \n",
    "aruco_dict = cv2.aruco.custom_dictionary(0, 4, 1)\n",
    "\n",
    "# adding empty bytesList array to fill with 3 markers \n",
    "aruco_dict.bytesList = np.empty(shape = (3, 2, 4), dtype = np.uint8)\n",
    "\n",
    "# adding new markers\n",
    "mybits = np.array([[1,1,1,1],[1,0,0,0],[1,1,1,0],[1,1,0,0]], dtype = np.uint8)\n",
    "aruco_dict.bytesList[0] = cv2.aruco.Dictionary_getByteListFromBits(mybits)\n",
    "mybits = np.array([[0,1,1,0],[1,0,0,1],[1,1,1,1],[1,0,0,1],], dtype = np.uint8)\n",
    "aruco_dict.bytesList[1] = cv2.aruco.Dictionary_getByteListFromBits(mybits)\n",
    "mybits = np.array([[0,1,1,1],[1,0,0,0],[1,0,0,0],[1,1,1,1]], dtype = np.uint8)\n",
    "aruco_dict.bytesList[2] = cv2.aruco.Dictionary_getByteListFromBits(mybits)"
   ]
  },
  {
   "cell_type": "code",
   "execution_count": 5,
   "metadata": {},
   "outputs": [],
   "source": [
    "# to save these marker images uncomment it\n",
    "# for i in range(len(aruco_dict.bytesList)):\n",
    "#     cv2.imwrite(\"custom_aruco_\" + str(i) + \".png\", cv2.aruco.drawMarker(aruco_dict, i, 128))\n",
    "\n",
    "img_size = 128\n",
    "img = np.zeros((img_size, img_size,1), dtype=\"uint8\")\n",
    "cv2.aruco.drawMarker(aruco_dict, 0, img_size,img,1)  # (dictionary, id, imagesize, image, width)\n",
    "cv2.imshow(\"ArUCo Tag\", img)\n",
    "\n",
    "cv2.waitKey(0)\n",
    "cv2.destroyAllWindows()"
   ]
  },
  {
   "cell_type": "code",
   "execution_count": null,
   "metadata": {},
   "outputs": [],
   "source": []
  }
 ],
 "metadata": {
  "kernelspec": {
   "display_name": "base",
   "language": "python",
   "name": "python3"
  },
  "language_info": {
   "codemirror_mode": {
    "name": "ipython",
    "version": 3
   },
   "file_extension": ".py",
   "mimetype": "text/x-python",
   "name": "python",
   "nbconvert_exporter": "python",
   "pygments_lexer": "ipython3",
   "version": "3.8.8"
  },
  "orig_nbformat": 4,
  "vscode": {
   "interpreter": {
    "hash": "ad2bdc8ecc057115af97d19610ffacc2b4e99fae6737bb82f5d7fb13d2f2c186"
   }
  }
 },
 "nbformat": 4,
 "nbformat_minor": 2
}
